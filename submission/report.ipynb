{
 "cells": [
  {
   "cell_type": "markdown",
   "metadata": {},
   "source": [
    "# Deployment Track Report"
   ]
  },
  {
   "cell_type": "markdown",
   "metadata": {},
   "source": [
    "* Name: Ziyi Liang\n",
    "* Net-ID: zl5604"
   ]
  },
  {
   "cell_type": "code",
   "execution_count": null,
   "metadata": {
    "vscode": {
     "languageId": "plaintext"
    }
   },
   "outputs": [],
   "source": [
    "import numpy as np\n",
    "import pandas as pd\n",
    "import seaborn as sns\n",
    "import matplotlib.pyplot as plt\n",
    "import os\n",
    "import shutil\n",
    "from PIL import Image\n",
    "\n",
    "import tensorflow.keras.backend as K\n",
    "import tensorflow as tf"
   ]
  },
  {
   "cell_type": "markdown",
   "metadata": {},
   "source": [
    "## Models"
   ]
  },
  {
   "cell_type": "markdown",
   "metadata": {},
   "source": [
    "### Previous Model"
   ]
  },
  {
   "cell_type": "markdown",
   "metadata": {},
   "source": []
  },
  {
   "cell_type": "markdown",
   "metadata": {},
   "source": [
    "### Submit Model (MobileNet)"
   ]
  },
  {
   "cell_type": "markdown",
   "metadata": {},
   "source": [
    "* I used the built-in MobileNet. The model has 3,228,864 paramemters.\n",
    "* The augmentations used are the default ones provided by Professor Fund. (Explanation for these augmentations quoted from docstring of ` tf.keras.preprocessing.image.ImageDataGenerator`)\n",
    "    * `rescale=1.0/255`: Rescale all pixels into [0, 1] range;\n",
    "    * `rotation_range=1`: degree range for random rotations;\n",
    "\t* `zoom_range=0.1`：range for random zoom;\n",
    "\t* `width_shift_range=0.1`：fraction of total width shifted horizontally;\n",
    "\t* `height_shift_range=0.1`：fraction of total height shifted vertically;\n",
    "\t* `shear_range=0.1`：the intensity of image being sheared;\n",
    "\t* `horizontal_flip=True`：image is filpped horizontally randomly;\n",
    "\t* `fill_mode=\"nearest\"`: points outside the boundaries of the input are filled with nearest mode;\n",
    "* I trained the classification head 35 epochs, with Adam optimizer, learning rate of 0.001, amd batch size of 32. The validation accuracy at the end of this training stage is 0.8318.\n",
    "* There are three stages of un-freezing:\n",
    "\t1. Last 7 layers un-frozen: \n",
    "\t\t- epoch: 28, optimizer: Adam, learning rate: 1e-05, batch size: 32, validation accuracy: 0.8370;\n",
    "\t2. Last 14 layers un-frozen:\n",
    "\t\t- epoch: 30, optimizer: Adam, learning rate: 5e-06, batch size: 32, validation accuracy: 0.8516;\n",
    "\t3. Last 20 layers un-frozen:\n",
    "\t\t- epoch: 8, optimizer: Adam, learning rate: 2.5e-06, batch size: 32, validation accuracy: 0.8513;\n",
    "\tSince the third stage of un-freezing has no improvement in accucary, the final model is the second stage model (14 layers un-frozen)\n",
    "* The final accuracy is 0.8742\n",
    "* My model correctly predict the calss of my custom test image.\n"
   ]
  },
  {
   "cell_type": "markdown",
   "metadata": {},
   "source": [
    "### Submit Model (VGG16)"
   ]
  },
  {
   "cell_type": "markdown",
   "metadata": {},
   "source": [
    "### Model Summary"
   ]
  },
  {
   "cell_type": "markdown",
   "metadata": {},
   "source": [
    "## Deployments"
   ]
  },
  {
   "cell_type": "markdown",
   "metadata": {},
   "source": []
  },
  {
   "cell_type": "markdown",
   "metadata": {},
   "source": [
    "## Evaluation"
   ]
  },
  {
   "cell_type": "markdown",
   "metadata": {},
   "source": []
  }
 ],
 "metadata": {
  "language_info": {
   "name": "python"
  }
 },
 "nbformat": 4,
 "nbformat_minor": 2
}
